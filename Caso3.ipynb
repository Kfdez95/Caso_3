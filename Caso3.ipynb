{
  "nbformat": 4,
  "nbformat_minor": 0,
  "metadata": {
    "colab": {
      "name": "Caso3.ipynb",
      "provenance": [],
      "collapsed_sections": [],
      "include_colab_link": true
    },
    "kernelspec": {
      "name": "python3",
      "display_name": "Python 3"
    },
    "language_info": {
      "name": "python"
    }
  },
  "cells": [
    {
      "cell_type": "markdown",
      "metadata": {
        "id": "view-in-github",
        "colab_type": "text"
      },
      "source": [
        "<a href=\"https://colab.research.google.com/github/Kfdez95/Caso_3/blob/master/Caso3.ipynb\" target=\"_parent\"><img src=\"https://colab.research.google.com/assets/colab-badge.svg\" alt=\"Open In Colab\"/></a>"
      ]
    },
    {
      "cell_type": "code",
      "metadata": {
        "colab": {
          "base_uri": "https://localhost:8080/"
        },
        "id": "xeDt1bibJjkP",
        "outputId": "c9d01a43-1ea9-4aa7-f84a-c86610909362"
      },
      "source": [
        "#Conectamos al Drive\n",
        "from google.colab import drive\n",
        "drive.mount('/content/drive')"
      ],
      "execution_count": 1,
      "outputs": [
        {
          "output_type": "stream",
          "text": [
            "Mounted at /content/drive\n"
          ],
          "name": "stdout"
        }
      ]
    },
    {
      "cell_type": "code",
      "metadata": {
        "id": "E6hp9QLRJzbg"
      },
      "source": [
        "#Importamos librerías necesarias y el archivo con los datos\n",
        "import numpy as np\n",
        "import pandas as pd\n",
        "df = pd.read_csv('/content/drive/MyDrive/Caso_3/data.csv', sep=';')"
      ],
      "execution_count": 2,
      "outputs": []
    },
    {
      "cell_type": "code",
      "metadata": {
        "id": "ESwPEIg2M_zX",
        "colab": {
          "base_uri": "https://localhost:8080/",
          "height": 206
        },
        "outputId": "d1b6b55a-8394-4988-ff20-8e3700c4ef0a"
      },
      "source": [
        "#Mostramos los primeros 5 valores del DataFrame\n",
        "df.head()"
      ],
      "execution_count": 3,
      "outputs": [
        {
          "output_type": "execute_result",
          "data": {
            "text/html": [
              "<div>\n",
              "<style scoped>\n",
              "    .dataframe tbody tr th:only-of-type {\n",
              "        vertical-align: middle;\n",
              "    }\n",
              "\n",
              "    .dataframe tbody tr th {\n",
              "        vertical-align: top;\n",
              "    }\n",
              "\n",
              "    .dataframe thead th {\n",
              "        text-align: right;\n",
              "    }\n",
              "</style>\n",
              "<table border=\"1\" class=\"dataframe\">\n",
              "  <thead>\n",
              "    <tr style=\"text-align: right;\">\n",
              "      <th></th>\n",
              "      <th>id</th>\n",
              "      <th>FirstName</th>\n",
              "      <th>LastName</th>\n",
              "      <th>Gender</th>\n",
              "      <th>Birthday</th>\n",
              "      <th>Status</th>\n",
              "      <th>Salary</th>\n",
              "      <th>Taxes</th>\n",
              "      <th>Department</th>\n",
              "      <th>HourlyRate</th>\n",
              "      <th>MaritalStatus</th>\n",
              "      <th>OverTime</th>\n",
              "    </tr>\n",
              "  </thead>\n",
              "  <tbody>\n",
              "    <tr>\n",
              "      <th>0</th>\n",
              "      <td>1</td>\n",
              "      <td>Kimberley</td>\n",
              "      <td>Kuhic</td>\n",
              "      <td>F</td>\n",
              "      <td>15/5/90</td>\n",
              "      <td>--</td>\n",
              "      <td>110182.0</td>\n",
              "      <td>NaN</td>\n",
              "      <td>Sales</td>\n",
              "      <td>40</td>\n",
              "      <td>Single</td>\n",
              "      <td>Yes</td>\n",
              "    </tr>\n",
              "    <tr>\n",
              "      <th>1</th>\n",
              "      <td>1</td>\n",
              "      <td>Kitty</td>\n",
              "      <td>Ruecker</td>\n",
              "      <td>F</td>\n",
              "      <td>24/7/76</td>\n",
              "      <td>PE</td>\n",
              "      <td>90613.0</td>\n",
              "      <td>NaN</td>\n",
              "      <td>Sales</td>\n",
              "      <td>76</td>\n",
              "      <td>Married</td>\n",
              "      <td>No</td>\n",
              "    </tr>\n",
              "    <tr>\n",
              "      <th>2</th>\n",
              "      <td>5</td>\n",
              "      <td>Jamal</td>\n",
              "      <td>Cole</td>\n",
              "      <td>M</td>\n",
              "      <td>31/1/83</td>\n",
              "      <td>PE</td>\n",
              "      <td>109251.0</td>\n",
              "      <td>NaN</td>\n",
              "      <td>Research &amp; Development</td>\n",
              "      <td>89</td>\n",
              "      <td>Single</td>\n",
              "      <td>Yes</td>\n",
              "    </tr>\n",
              "    <tr>\n",
              "      <th>3</th>\n",
              "      <td>5</td>\n",
              "      <td>Christopher</td>\n",
              "      <td>D'Amore</td>\n",
              "      <td>F</td>\n",
              "      <td>16/3/74</td>\n",
              "      <td>PE</td>\n",
              "      <td>103614.0</td>\n",
              "      <td>NaN</td>\n",
              "      <td>Sales</td>\n",
              "      <td>78</td>\n",
              "      <td>Married</td>\n",
              "      <td>No</td>\n",
              "    </tr>\n",
              "    <tr>\n",
              "      <th>4</th>\n",
              "      <td>5</td>\n",
              "      <td>Carly</td>\n",
              "      <td>Ratke</td>\n",
              "      <td>M</td>\n",
              "      <td>16/1/98</td>\n",
              "      <td>PE</td>\n",
              "      <td>88315.0</td>\n",
              "      <td>NaN</td>\n",
              "      <td>Research &amp; Development</td>\n",
              "      <td>86</td>\n",
              "      <td>Single</td>\n",
              "      <td>Yes</td>\n",
              "    </tr>\n",
              "  </tbody>\n",
              "</table>\n",
              "</div>"
            ],
            "text/plain": [
              "   id    FirstName LastName  ... HourlyRate MaritalStatus OverTime\n",
              "0   1    Kimberley    Kuhic  ...         40        Single      Yes\n",
              "1   1        Kitty  Ruecker  ...         76       Married       No\n",
              "2   5        Jamal     Cole  ...         89        Single      Yes\n",
              "3   5  Christopher  D'Amore  ...         78       Married       No\n",
              "4   5        Carly    Ratke  ...         86        Single      Yes\n",
              "\n",
              "[5 rows x 12 columns]"
            ]
          },
          "metadata": {
            "tags": []
          },
          "execution_count": 3
        }
      ]
    },
    {
      "cell_type": "code",
      "metadata": {
        "colab": {
          "base_uri": "https://localhost:8080/",
          "height": 206
        },
        "id": "WWVkzo4PnIFy",
        "outputId": "b53c0bb7-a4be-43c1-b5f9-8646a9eda357"
      },
      "source": [
        "#Mostramos los últimos 5 valores del DataFrame\n",
        "df.tail()"
      ],
      "execution_count": 4,
      "outputs": [
        {
          "output_type": "execute_result",
          "data": {
            "text/html": [
              "<div>\n",
              "<style scoped>\n",
              "    .dataframe tbody tr th:only-of-type {\n",
              "        vertical-align: middle;\n",
              "    }\n",
              "\n",
              "    .dataframe tbody tr th {\n",
              "        vertical-align: top;\n",
              "    }\n",
              "\n",
              "    .dataframe thead th {\n",
              "        text-align: right;\n",
              "    }\n",
              "</style>\n",
              "<table border=\"1\" class=\"dataframe\">\n",
              "  <thead>\n",
              "    <tr style=\"text-align: right;\">\n",
              "      <th></th>\n",
              "      <th>id</th>\n",
              "      <th>FirstName</th>\n",
              "      <th>LastName</th>\n",
              "      <th>Gender</th>\n",
              "      <th>Birthday</th>\n",
              "      <th>Status</th>\n",
              "      <th>Salary</th>\n",
              "      <th>Taxes</th>\n",
              "      <th>Department</th>\n",
              "      <th>HourlyRate</th>\n",
              "      <th>MaritalStatus</th>\n",
              "      <th>OverTime</th>\n",
              "    </tr>\n",
              "  </thead>\n",
              "  <tbody>\n",
              "    <tr>\n",
              "      <th>995</th>\n",
              "      <td>996</td>\n",
              "      <td>Linnie</td>\n",
              "      <td>Larson</td>\n",
              "      <td>F</td>\n",
              "      <td>4/3/80</td>\n",
              "      <td>PE</td>\n",
              "      <td>92815.0</td>\n",
              "      <td>NaN</td>\n",
              "      <td>Research &amp; Development</td>\n",
              "      <td>92</td>\n",
              "      <td>Single</td>\n",
              "      <td>Yes</td>\n",
              "    </tr>\n",
              "    <tr>\n",
              "      <th>996</th>\n",
              "      <td>997</td>\n",
              "      <td>Agusta</td>\n",
              "      <td>Emmerich</td>\n",
              "      <td>M</td>\n",
              "      <td>5/12/72</td>\n",
              "      <td>PE</td>\n",
              "      <td>114085.0</td>\n",
              "      <td>NaN</td>\n",
              "      <td>Research &amp; Development</td>\n",
              "      <td>91</td>\n",
              "      <td>Divorced</td>\n",
              "      <td>No</td>\n",
              "    </tr>\n",
              "    <tr>\n",
              "      <th>997</th>\n",
              "      <td>997</td>\n",
              "      <td>Andrew</td>\n",
              "      <td>Schulist</td>\n",
              "      <td>F</td>\n",
              "      <td>2/1/71</td>\n",
              "      <td>PE</td>\n",
              "      <td>101940.0</td>\n",
              "      <td>NaN</td>\n",
              "      <td>Research &amp; Development</td>\n",
              "      <td>34</td>\n",
              "      <td>Single</td>\n",
              "      <td>No</td>\n",
              "    </tr>\n",
              "    <tr>\n",
              "      <th>998</th>\n",
              "      <td>997</td>\n",
              "      <td>Brook</td>\n",
              "      <td>Turner</td>\n",
              "      <td>M</td>\n",
              "      <td>21/6/90</td>\n",
              "      <td>NaN</td>\n",
              "      <td>80734.0</td>\n",
              "      <td>NaN</td>\n",
              "      <td>Research &amp; Development</td>\n",
              "      <td>49</td>\n",
              "      <td>Married</td>\n",
              "      <td>No</td>\n",
              "    </tr>\n",
              "    <tr>\n",
              "      <th>999</th>\n",
              "      <td>999</td>\n",
              "      <td>Maceo</td>\n",
              "      <td>Wisoky</td>\n",
              "      <td>M</td>\n",
              "      <td>12/11/83</td>\n",
              "      <td>PE</td>\n",
              "      <td>142838.0</td>\n",
              "      <td>NaN</td>\n",
              "      <td>Human Resources</td>\n",
              "      <td>33</td>\n",
              "      <td>Married</td>\n",
              "      <td>No</td>\n",
              "    </tr>\n",
              "  </tbody>\n",
              "</table>\n",
              "</div>"
            ],
            "text/plain": [
              "      id FirstName  LastName  ... HourlyRate MaritalStatus OverTime\n",
              "995  996    Linnie    Larson  ...         92        Single      Yes\n",
              "996  997    Agusta  Emmerich  ...         91      Divorced       No\n",
              "997  997    Andrew  Schulist  ...         34        Single       No\n",
              "998  997     Brook    Turner  ...         49       Married       No\n",
              "999  999     Maceo    Wisoky  ...         33       Married       No\n",
              "\n",
              "[5 rows x 12 columns]"
            ]
          },
          "metadata": {
            "tags": []
          },
          "execution_count": 4
        }
      ]
    },
    {
      "cell_type": "code",
      "metadata": {
        "colab": {
          "base_uri": "https://localhost:8080/"
        },
        "id": "4W-pFmufo5WV",
        "outputId": "2c91d878-4cd1-4ecc-9714-56cec2229f35"
      },
      "source": [
        "#Mostramos el tipo de datos de cada columna\n",
        "df.dtypes"
      ],
      "execution_count": 5,
      "outputs": [
        {
          "output_type": "execute_result",
          "data": {
            "text/plain": [
              "id                 int64\n",
              "FirstName         object\n",
              "LastName          object\n",
              "Gender            object\n",
              "Birthday          object\n",
              "Status            object\n",
              "Salary           float64\n",
              "Taxes             object\n",
              "Department        object\n",
              "HourlyRate        object\n",
              "MaritalStatus     object\n",
              "OverTime          object\n",
              "dtype: object"
            ]
          },
          "metadata": {
            "tags": []
          },
          "execution_count": 5
        }
      ]
    },
    {
      "cell_type": "code",
      "metadata": {
        "colab": {
          "base_uri": "https://localhost:8080/"
        },
        "id": "qpU0yhsZuNKd",
        "outputId": "2998613a-c8d9-45f1-b3a0-fff66f04afb1"
      },
      "source": [
        "#Mostramos la cantidad de valores nulos de cada columna\n",
        "df.isnull().sum()"
      ],
      "execution_count": 6,
      "outputs": [
        {
          "output_type": "execute_result",
          "data": {
            "text/plain": [
              "id                 0\n",
              "FirstName          2\n",
              "LastName           2\n",
              "Gender           207\n",
              "Birthday           2\n",
              "Status           178\n",
              "Salary             2\n",
              "Taxes            993\n",
              "Department        12\n",
              "HourlyRate         2\n",
              "MaritalStatus     25\n",
              "OverTime           2\n",
              "dtype: int64"
            ]
          },
          "metadata": {
            "tags": []
          },
          "execution_count": 6
        }
      ]
    },
    {
      "cell_type": "code",
      "metadata": {
        "colab": {
          "base_uri": "https://localhost:8080/"
        },
        "id": "x90lExx5xLWs",
        "outputId": "a5c46b45-f33c-4ec7-d1f8-c66558da5640"
      },
      "source": [
        "#Mostramos el porcentaje total de valores perdidos en todo el dataframe \n",
        "total_cells = np.product(df.shape)\n",
        "total_missing = df.isnull().sum().sum()\n",
        "total_missing/total_cells*100"
      ],
      "execution_count": 7,
      "outputs": [
        {
          "output_type": "execute_result",
          "data": {
            "text/plain": [
              "11.891666666666667"
            ]
          },
          "metadata": {
            "tags": []
          },
          "execution_count": 7
        }
      ]
    },
    {
      "cell_type": "code",
      "metadata": {
        "colab": {
          "base_uri": "https://localhost:8080/"
        },
        "id": "cYQEtS6MyTLh",
        "outputId": "6a292138-c249-4e4e-85ba-cc781e49d6f8"
      },
      "source": [
        "#Mostramos el porcentaje de valores perdidos por columna\n",
        "Porcentajes_null = df.isnull().sum()/len(df.index)*100\n",
        "Porcentajes_null"
      ],
      "execution_count": 8,
      "outputs": [
        {
          "output_type": "execute_result",
          "data": {
            "text/plain": [
              "id                0.0\n",
              "FirstName         0.2\n",
              "LastName          0.2\n",
              "Gender           20.7\n",
              "Birthday          0.2\n",
              "Status           17.8\n",
              "Salary            0.2\n",
              "Taxes            99.3\n",
              "Department        1.2\n",
              "HourlyRate        0.2\n",
              "MaritalStatus     2.5\n",
              "OverTime          0.2\n",
              "dtype: float64"
            ]
          },
          "metadata": {
            "tags": []
          },
          "execution_count": 8
        }
      ]
    },
    {
      "cell_type": "code",
      "metadata": {
        "id": "wRBSOBQXRQ8z"
      },
      "source": [
        "#Eliminamos la(s) columna(s) que tengan más del 70% de valores nulos\n",
        "for x in df:\n",
        "    y= df[x].isna().mean()\n",
        "    if y>0.7:\n",
        "        df.drop(x, inplace=True,axis=1)"
      ],
      "execution_count": 9,
      "outputs": []
    },
    {
      "cell_type": "code",
      "metadata": {
        "id": "CMBSrH17yZTL"
      },
      "source": [
        "#Eliminamos la(s) fila(s) que tenga(n) menos de dos elementos\n",
        "columnas = df.columns\n",
        "for i in range(0, len(df)):\n",
        "    y=df.loc[i,columnas].isna().sum()\n",
        "    if y>2:\n",
        "        df=df.drop([i])"
      ],
      "execution_count": 10,
      "outputs": []
    },
    {
      "cell_type": "code",
      "metadata": {
        "id": "mn0gAudmyZa_"
      },
      "source": [
        "#Reemplazamos los String “--\" por valores nulos \n",
        "df.replace(to_replace=\"--\", value=np.nan, inplace=True)"
      ],
      "execution_count": 11,
      "outputs": []
    },
    {
      "cell_type": "code",
      "metadata": {
        "id": "oVEMNC_uKFq9"
      },
      "source": [
        "#Reemplazamos los valores nulos de la columna “Gender” por \"U\"\n",
        "df['Gender'].fillna('U', inplace=True)"
      ],
      "execution_count": 12,
      "outputs": []
    },
    {
      "cell_type": "code",
      "metadata": {
        "id": "8u_Q5HHPKFyT"
      },
      "source": [
        "#Reemplazamos los valores nulos de la columna “Department” por “Bench”\n",
        "df['Department'].fillna('Bench', inplace=True)"
      ],
      "execution_count": 13,
      "outputs": []
    },
    {
      "cell_type": "code",
      "metadata": {
        "id": "mSdyn79CKF4b"
      },
      "source": [
        "#Reemplazamos los valores nulos de la columna “HourlyRate” por la mediana\n",
        "df.HourlyRate = pd.to_numeric(df.HourlyRate)\n",
        "df.HourlyRate=df.HourlyRate.replace(np.nan,df.HourlyRate.median())"
      ],
      "execution_count": 14,
      "outputs": []
    },
    {
      "cell_type": "code",
      "metadata": {
        "id": "sOjYN_FpKF-H"
      },
      "source": [
        "#Reemplazamos los valores perdidos inesperados de la columna “Overtime” por \"No\"\n",
        "df.OverTime=df.OverTime.replace([\"0\",\"1\"],np.nan)\n",
        "df.OverTime=df.OverTime.replace(np.nan,\"No\")"
      ],
      "execution_count": 15,
      "outputs": []
    },
    {
      "cell_type": "code",
      "metadata": {
        "id": "Yke9dwPiPisE"
      },
      "source": [
        "#Guardamos el dataframe procesado en el destino elegido\n",
        "df.to_csv('/content/drive/MyDrive/Caso_3/Caso_3_cleanData.csv',index=False)"
      ],
      "execution_count": 16,
      "outputs": []
    }
  ]
}